{
 "cells": [
  {
   "cell_type": "markdown",
   "metadata": {},
   "source": [
    "# Python Scripting - Managing Files\n",
    "\n",
    "## Modules\n",
    "\n",
    "- [argparse](https://docs.python.org/3/library/argparse.html)\n",
    "- [pathlib](https://docs.python.org/3/library/pathlib.html)\n",
    "- [logging](https://docs.python.org/3/library/logging.html)\n",
    "\n",
    "- [shutil](https://docs.python.org/3/library/shutil.html)\n",
    "- [zipfile](https://docs.python.org/3/library/zipfile.html)\n",
    "- [re](https://docs.python.org/3/library/re.html)\n",
    "- [filecmp](https://docs.python.org/3/library/filecmp.html)"
   ]
  },
  {
   "cell_type": "markdown",
   "metadata": {},
   "source": [
    "## Exploring\n",
    "\n",
    "- boilerplate script\n",
    "- listing files\n",
    "- filtering files (glob, re)\n",
    "- file stats\n",
    "- creating files (touch)\n",
    "- creating directories (check existing, nested directories)\n",
    "- renaming files\n",
    "- deleting files (+ safe delete)\n",
    "- copy single file (shutil.copy, shutil.copy2)\n",
    "- copy all (files + directories) (shutil.copytree)\n",
    "- comparing files (filecmp.cmp)\n",
    "- creating a zip file\n",
    "- adding files to a zip file"
   ]
  },
  {
   "cell_type": "markdown",
   "metadata": {},
   "source": [
    "## Putting it together\n",
    "\n",
    "- Copy a directory (subdirectories + files) with a config file for blocklist / whitelist; add option to archive\n",
    "- Mass file renamer\n",
    "- Duplicate file finder (via name, via stat)(+ safe deleting via send2trash)"
   ]
  }
 ],
 "metadata": {
  "kernelspec": {
   "display_name": "Python 3",
   "language": "python",
   "name": "python3"
  },
  "language_info": {
   "codemirror_mode": {
    "name": "ipython",
    "version": 3
   },
   "file_extension": ".py",
   "mimetype": "text/x-python",
   "name": "python",
   "nbconvert_exporter": "python",
   "pygments_lexer": "ipython3",
   "version": "3.6.9"
  }
 },
 "nbformat": 4,
 "nbformat_minor": 2
}
